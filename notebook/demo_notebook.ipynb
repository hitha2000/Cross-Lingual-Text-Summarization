{
 "cells": [
  {
   "cell_type": "code",
   "execution_count": 2,
   "id": "b9d4244d-492d-4dc1-995e-d3e623683d8c",
   "metadata": {},
   "outputs": [],
   "source": [
    "import requests\n",
    "import json"
   ]
  },
  {
   "cell_type": "code",
   "execution_count": 24,
   "id": "7f02603f-da7c-40c4-bd15-720703b60bfd",
   "metadata": {},
   "outputs": [
    {
     "name": "stdout",
     "output_type": "stream",
     "text": [
      "\n",
      "Summarizing text into 'en' (target 80 words):\n",
      "Input text: \n",
      "    La inteligencia artificial (IA) está transformando las industrias en todo el mundo. \n",
      "    Desde ...\n",
      "Requested word count: 80\n",
      "Summary: Artificial Intelligence (AI) is transforming industries around the world. From medical to finance, AI systems are improving efficiency and decision making. Auto-learning models analyze large amounts of data to predict results, while natural language processing allows chatbots to help clients with their learning process.  - -  () , () (), ; \n",
      "Approximate summary word count: 51\n"
     ]
    }
   ],
   "source": [
    "import requests\n",
    "import json\n",
    "\n",
    "API_URL = \"http://localhost:80/api/summarize\"\n",
    "\n",
    "def send_post_request(text, word_count, target_lang):\n",
    "    \"\"\"Send a POST request to the cross-lingual summarization API and print the response.\"\"\"\n",
    "    payload = {\n",
    "        \"text\": text,\n",
    "        \"word_count\": word_count,\n",
    "        \"target_lang\": target_lang  # new field for cross-lingual summarization\n",
    "    }\n",
    "    headers = {\"Content-Type\": \"application/json\"}\n",
    "    \n",
    "    print(f\"\\nSummarizing text into '{target_lang}' (target {word_count} words):\")\n",
    "    print(f\"Input text: {text[:100]}...\" if len(text) > 100 else f\"Input text: {text}\")\n",
    "    print(f\"Requested word count: {word_count}\")\n",
    "    \n",
    "    try:\n",
    "        response = requests.post(API_URL, json=payload, headers=headers)\n",
    "        response.raise_for_status()\n",
    "        data = response.json()\n",
    "        print(\"Summary:\", data[\"summary\"])\n",
    "        print(f\"Approximate summary word count: {len(data['summary'].split())}\")\n",
    "    except requests.exceptions.HTTPError as http_err:\n",
    "        print(f\"HTTP error occurred: {http_err}\")\n",
    "        if response.text:\n",
    "            print(f\"Error details: {json.loads(response.text).get('detail', 'No details provided')}\")\n",
    "    except requests.exceptions.ConnectionError:\n",
    "        print(\"Failed to connect to the server. Ensure the FastAPI server is running at\", API_URL)\n",
    "    except requests.exceptions.RequestException as err:\n",
    "        print(f\"Request error: {err}\")\n",
    "\n",
    "def main():\n",
    "    # Example: Input in Spanish, summarize into English\n",
    "    article = \"\"\"\n",
    "    La inteligencia artificial (IA) está transformando las industrias en todo el mundo. \n",
    "    Desde la atención médica hasta las finanzas, los sistemas de IA están mejorando la eficiencia \n",
    "    y la toma de decisiones. Los modelos de aprendizaje automático analizan grandes conjuntos de \n",
    "    datos para predecir resultados, mientras que el procesamiento del lenguaje natural permite que \n",
    "    los chatbots ayuden a los clientes.\n",
    "    \"\"\"\n",
    "    \n",
    "    # Summarize into English with word_count of 80\n",
    "    send_post_request(article, 80, \"en\")\n",
    "\n",
    "if __name__ == \"__main__\":\n",
    "    main()\n"
   ]
  },
  {
   "cell_type": "code",
   "execution_count": null,
   "id": "05036030-4be7-41d4-9065-7ad29bd95eae",
   "metadata": {},
   "outputs": [],
   "source": []
  }
 ],
 "metadata": {
  "kernelspec": {
   "display_name": "Python 3 (ipykernel)",
   "language": "python",
   "name": "python3"
  },
  "language_info": {
   "codemirror_mode": {
    "name": "ipython",
    "version": 3
   },
   "file_extension": ".py",
   "mimetype": "text/x-python",
   "name": "python",
   "nbconvert_exporter": "python",
   "pygments_lexer": "ipython3",
   "version": "3.12.4"
  }
 },
 "nbformat": 4,
 "nbformat_minor": 5
}
